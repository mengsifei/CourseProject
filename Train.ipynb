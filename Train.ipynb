{
  "cells": [
    {
      "cell_type": "code",
      "execution_count": null,
      "metadata": {
        "id": "6Mxac1v9DSRs",
        "colab": {
          "base_uri": "https://localhost:8080/"
        },
        "outputId": "9f0fffec-a4df-4fb7-f0b0-0fcfe65fdf4f"
      },
      "outputs": [
        {
          "output_type": "stream",
          "name": "stdout",
          "text": [
            "Downloading...\n",
            "From: https://drive.google.com/uc?id=1w0TorBfTIqbquQVd6k3h_77ypnrvfGwf\n",
            "To: /content/SCUT-FBP5500_v2.1.zip\n",
            "100% 180M/180M [00:02<00:00, 85.7MB/s]\n"
          ]
        }
      ],
      "source": [
        "# from google.colab import drive\n",
        "# drive.mount('/content/drive')\n",
        "!gdown 1w0TorBfTIqbquQVd6k3h_77ypnrvfGwf\n",
        "!unzip -q SCUT-FBP5500_v2.1.zip\n",
        "# !unzip -q '/content/drive/MyDrive/!КУРСАЧ/SCUT/SCUT-FBP5500_v2.1.zip'\n",
        "# !unzip -q '/content/drive/MyDrive/!КУРСАЧ/SCUT/scut-fbp_dataset/Data_Collection.zip'\n",
        "# !unzip -q '/content/drive/MyDrive/!КУРСАЧ/SCUT/scut-fbp_dataset/Rating_Collection.zip'"
      ]
    },
    {
      "cell_type": "code",
      "source": [
        "from scipy.spatial import distance\n",
        "from imutils import face_utils\n",
        "from google.colab.patches import cv2_imshow\n",
        "import imutils\n",
        "import dlib\n",
        "import cv2\n",
        "import string\n",
        "import urllib.request\n",
        "import random\n",
        "\n",
        "import math\n",
        "urllib.request.urlretrieve(\"https://raw.githubusercontent.com/tzutalin/dlib-android/master/data/shape_predictor_68_face_landmarks.dat\", \"shape_predictor_68_face_landmarks.dat\")"
      ],
      "metadata": {
        "colab": {
          "base_uri": "https://localhost:8080/"
        },
        "id": "Yg98RQqO8vft",
        "outputId": "72d73d3d-4413-4eee-81c7-e1cc1d8146ef"
      },
      "execution_count": null,
      "outputs": [
        {
          "output_type": "execute_result",
          "data": {
            "text/plain": [
              "('shape_predictor_68_face_landmarks.dat',\n",
              " <http.client.HTTPMessage at 0x7fd32531b220>)"
            ]
          },
          "metadata": {},
          "execution_count": 2
        }
      ]
    },
    {
      "cell_type": "code",
      "execution_count": null,
      "metadata": {
        "id": "qmdBNQ7lCM2s"
      },
      "outputs": [],
      "source": [
        "import torch.optim as optim\n",
        "import torchvision\n",
        "import copy\n",
        "import numpy as np\n",
        "import torch\n",
        "import cv2\n",
        "import pandas as pd\n",
        "import matplotlib.pyplot as plt\n",
        "from torchvision import models\n",
        "import torchvision.transforms as transforms\n",
        "from sklearn.model_selection import train_test_split\n",
        "from torch.utils.data import Dataset, DataLoader\n",
        "import os\n",
        "import torch, gc\n",
        "import time\n",
        "import os\n",
        "import torch.nn as nn\n",
        "from PIL import Image, ImageOps\n",
        "from torch.utils.data import Dataset\n",
        "from tqdm.notebook import tqdm\n",
        "from IPython.display import clear_output\n",
        "from sklearn.metrics import mean_absolute_error, mean_squared_error"
      ]
    },
    {
      "cell_type": "markdown",
      "metadata": {
        "id": "vR4Q9_undPAY"
      },
      "source": [
        "## Helping functions"
      ]
    },
    {
      "cell_type": "code",
      "execution_count": null,
      "metadata": {
        "id": "n3dJOUBUdg83"
      },
      "outputs": [],
      "source": [
        "def train_and_validate(model, optimizer, criterion, train_loader, val_loader, n_epochs):\n",
        "    train_loss_log, val_loss_log, train_metrics_log, val_metrics_log = [], [], [], []\n",
        "    best_pc = 0\n",
        "    best_model = copy.deepcopy(model.state_dict())\n",
        "    for epoch in tqdm(range(n_epochs)):\n",
        "        running_loss = 0\n",
        "        targets_array, outputs_array = [], []\n",
        "        model.train()\n",
        "        for img, target in train_loader:\n",
        "            ###########code from seminar###########\n",
        "            img = img.to(device)\n",
        "            target = target.to(device)\n",
        "            target = target.squeeze(1)\n",
        "            optimizer.zero_grad()\n",
        "            outputs = model(img).view(-1)\n",
        "            loss = criterion(outputs, target)\n",
        "            loss.backward()\n",
        "            optimizer.step()\n",
        "            ############################\n",
        "            running_loss += loss.item() * img.shape[0]\n",
        "            targets_array += target.to('cpu').detach().numpy().ravel().tolist()\n",
        "            outputs_array += outputs.to('cpu').detach().numpy().ravel().tolist()\n",
        "\n",
        "        cur_mae = mean_absolute_error(np.array(targets_array).flatten(), np.array(outputs_array).flatten())\n",
        "        train_loss_log += [running_loss / len(train_loader.dataset)]\n",
        "        train_metrics_log += [cur_mae]\n",
        "\n",
        "        model.eval()\n",
        "        running_loss = 0\n",
        "        y_pred = []\n",
        "        y_true = []\n",
        "        for img, target in val_loader:\n",
        "            with torch.no_grad():\n",
        "                img = img.to(device)\n",
        "                target = target.to(device)\n",
        "                target = target.squeeze(1)\n",
        "                outputs = model(img).view(-1)\n",
        "                loss = criterion(outputs, target)\n",
        "                y_pred += outputs.to(\"cpu\").detach().numpy().ravel().tolist()\n",
        "                y_true += target.to(\"cpu\").detach().numpy().ravel().tolist()\n",
        "                running_loss += loss.item() * img.shape[0]\n",
        "        ############################\n",
        "        val_loss_log += [running_loss / len(val_loader.dataset)]\n",
        "        mae = mean_absolute_error(y_true, y_pred)\n",
        "        pc = np.corrcoef(y_true, y_pred)[0, 1]\n",
        "        rmse = np.sqrt(mean_squared_error(y_true, y_pred))\n",
        "        if pc > best_pc:\n",
        "            best_pc = pc\n",
        "            best_model = copy.deepcopy(model.state_dict())\n",
        "            model.load_state_dict(best_model)\n",
        "            torch.save({\n",
        "            'model_state_dict': model.state_dict(),\n",
        "            'pc': pc,\n",
        "            'mae': mae,\n",
        "            \"rmse\": rmse\n",
        "            }, '/content/model/Epoch-{}.pth'.format(epoch))\n",
        "        val_metrics_log += [mae]\n",
        "        plot_losses(train_loss_log, train_metrics_log, val_loss_log, val_metrics_log, \"Metric\")\n",
        "        gc.collect()\n",
        "        torch.cuda.empty_cache()\n",
        "    return train_metrics_log, val_metrics_log"
      ]
    },
    {
      "cell_type": "code",
      "execution_count": null,
      "metadata": {
        "id": "Q-jOCOtkgG13"
      },
      "outputs": [],
      "source": [
        "def plot_losses(train_losses, train_metrics, val_losses, val_metrics, metric_name):\n",
        "    clear_output()\n",
        "    fig, axs = plt.subplots(1, 2, figsize=(15, 5))\n",
        "    axs[0].plot(range(1, len(train_losses) + 1), train_losses, label='Train')\n",
        "    axs[0].plot(range(1, len(val_losses) + 1), val_losses, label='Val')\n",
        "    axs[1].plot(range(1, len(train_metrics) + 1), train_metrics, label='Train')\n",
        "    axs[1].plot(range(1, len(val_metrics) + 1), val_metrics, label='Val')\n",
        "\n",
        "    if max(train_losses) / min(train_losses) > 10:\n",
        "        axs[0].set_yscale('log')\n",
        "\n",
        "    if max(train_metrics) / min(train_metrics) > 10:\n",
        "        axs[0].set_yscale('log')\n",
        "\n",
        "    for ax in axs:\n",
        "        ax.set_xlabel('Epoch')\n",
        "        ax.legend()\n",
        "\n",
        "    axs[0].set_ylabel('Loss')\n",
        "    axs[1].set_ylabel(metric_name)\n",
        "    plt.show()"
      ]
    },
    {
      "cell_type": "markdown",
      "metadata": {
        "id": "HnTjxXV9chXu"
      },
      "source": [
        "## Data Sets"
      ]
    },
    {
      "cell_type": "code",
      "execution_count": null,
      "metadata": {
        "id": "m2EcZdHhWUKa"
      },
      "outputs": [],
      "source": [
        "class SCUTFBP5500Dataset(Dataset):\n",
        "    def __init__(self, images_path, txt_path, transform = None):\n",
        "        self.images_path = images_path\n",
        "        self.txt_path = txt_path\n",
        "        self.dataframe = pd.read_csv(txt_path, header = None, sep = ' ')\n",
        "        self.dataframe = self.dataframe.rename(columns = {0: 'Image', 1: 'Score'})\n",
        "        self.transform = transform\n",
        "\n",
        "    def __len__(self):\n",
        "        return self.dataframe.shape[0]\n",
        "\n",
        "    def __getitem__(self, idx):\n",
        "        img = Image.open(os.path.join(self.images_path, self.dataframe.Image[idx]))\n",
        "        target = torch.Tensor([self.dataframe.Score[idx]])\n",
        "        if self.transform:\n",
        "            img = self.transform(img)\n",
        "        return [img, target]"
      ]
    },
    {
      "cell_type": "code",
      "execution_count": null,
      "metadata": {
        "id": "Jc69AJXicm5L"
      },
      "outputs": [],
      "source": [
        "class SCUTFBPDataset(Dataset):\n",
        "    def __init__(self, images_path, txt_path, transform = None):\n",
        "        self.images_path = images_path\n",
        "        self.dataframe = pd.read_excel(txt_path)\n",
        "        self.transform = transform\n",
        "\n",
        "    def __len__(self):\n",
        "\n",
        "        return self.dataframe.shape[0]\n",
        "\n",
        "    def __getitem__(self, idx):\n",
        "        img = Image.open(os.path.join(self.images_path, 'SCUT-FBP-%d.jpg' % self.dataframe['#Image'][idx]))\n",
        "        target = torch.Tensor([self.dataframe['Attractiveness label'][idx]])\n",
        "        if self.transform:\n",
        "            img = self.transform(img)\n",
        "        return [img, target]"
      ]
    },
    {
      "cell_type": "markdown",
      "source": [
        "## Regnet"
      ],
      "metadata": {
        "id": "15DBlqAWkBZi"
      }
    },
    {
      "cell_type": "code",
      "source": [
        "device = torch.device('cuda:0' if torch.cuda.is_available() else 'cpu')\n",
        "regnet = models.regnet_y_8gf()\n",
        "regnet.fc = nn.Linear(2016, 1, bias = True)\n",
        "regnet = regnet.to(device)"
      ],
      "metadata": {
        "id": "sF2FKmA_kIgI"
      },
      "execution_count": null,
      "outputs": []
    },
    {
      "cell_type": "code",
      "source": [
        "sum(p.numel() for p in regnet.parameters())"
      ],
      "metadata": {
        "colab": {
          "base_uri": "https://localhost:8080/"
        },
        "id": "allaS_8UF-RD",
        "outputId": "5d66ca63-a9bf-4d64-d6f7-64f0525350db"
      },
      "execution_count": null,
      "outputs": [
        {
          "output_type": "execute_result",
          "data": {
            "text/plain": [
              "37366489"
            ]
          },
          "metadata": {},
          "execution_count": 25
        }
      ]
    },
    {
      "cell_type": "markdown",
      "metadata": {
        "id": "IOEedhXylxLT"
      },
      "source": [
        "## Efficient Net"
      ]
    },
    {
      "cell_type": "code",
      "source": [
        "device = torch.device('cuda:0' if torch.cuda.is_available() else 'cpu')\n",
        "efficientnet_v2_s = models.efficientnet_v2_s()\n",
        "efficientnet_v2_s.classifier[1] = nn.Linear(1280, 1, bias = True)\n",
        "efficientnet_v2_s = efficientnet_v2_s.to(device)\n",
        "# efficientnet_v2_s"
      ],
      "metadata": {
        "id": "qpC_6Qq8ZHoS"
      },
      "execution_count": null,
      "outputs": []
    },
    {
      "cell_type": "code",
      "source": [
        "sum(p.numel() for p in efficientnet_v2_s.parameters())"
      ],
      "metadata": {
        "colab": {
          "base_uri": "https://localhost:8080/"
        },
        "id": "yc3tN_QskVZn",
        "outputId": "80bcbc94-653d-484c-9849-dfacad48e1ed"
      },
      "execution_count": null,
      "outputs": [
        {
          "output_type": "execute_result",
          "data": {
            "text/plain": [
              "20178769"
            ]
          },
          "metadata": {},
          "execution_count": 20
        }
      ]
    },
    {
      "cell_type": "markdown",
      "metadata": {
        "id": "e6z1oYJfdUHF"
      },
      "source": [
        "## Dataloaders"
      ]
    },
    {
      "cell_type": "code",
      "execution_count": null,
      "metadata": {
        "id": "saTaDYCuI4f8"
      },
      "outputs": [],
      "source": [
        "def Data_loader(BATCH_SIZE, dataset_name):\n",
        "    transform_train = transforms.Compose([\n",
        "            transforms.Resize(256),\n",
        "            transforms.CenterCrop(224),\n",
        "            transforms.RandomRotation(30),\n",
        "            transforms.GaussianBlur(kernel_size=(5, 5), sigma=(0.1, 5)),\n",
        "            transforms.RandomHorizontalFlip(p=0.5),\n",
        "            transforms.ToTensor(),\n",
        "            transforms.Normalize([0.485, 0.456, 0.406], [0.229, 0.224, 0.225])])\n",
        "    transform_test = transforms.Compose([\n",
        "            transforms.Resize(256),\n",
        "            transforms.CenterCrop(224),\n",
        "            transforms.ToTensor(),\n",
        "            transforms.Normalize([0.485, 0.456, 0.406], [0.229, 0.224, 0.225])])\n",
        "    if dataset_name == 'SCUT-FBP5500':\n",
        "        source_path = '/content/SCUT-FBP5500_v2/Images'\n",
        "        train_path = '/content/SCUT-FBP5500_v2/train_test_files/split_of_60%training and 40%testing/train.txt'\n",
        "        test_path = '/content/SCUT-FBP5500_v2/train_test_files/split_of_60%training and 40%testing/test.txt'\n",
        "        train_set = SCUTFBP5500Dataset(source_path, train_path, transform = transform_train)\n",
        "        test_set = SCUTFBP5500Dataset(source_path, test_path, transform = transform_test)\n",
        "        train_loader = torch.utils.data.DataLoader(train_set, batch_size = BATCH_SIZE, shuffle = True)\n",
        "        test_loader = torch.utils.data.DataLoader(test_set, batch_size = BATCH_SIZE, shuffle = False)\n",
        "    elif dataset_name == 'SCUT-FBP':\n",
        "        source_path = '/content/Data_Collection'\n",
        "        dataframe_path = '/content/Rating_Collection/Attractiveness label.xlsx'\n",
        "        data_set = SCUTFBPDataset(source_path, dataframe_path, transform = transform_test)\n",
        "        train_set, test_set = train_test_split(data_set, test_size = 0.4, random_state = 42)\n",
        "        train_loader = torch.utils.data.DataLoader(train_set, batch_size = BATCH_SIZE, shuffle = True)\n",
        "        test_loader = torch.utils.data.DataLoader(test_set, batch_size = BATCH_SIZE, shuffle = False)\n",
        "    return (train_loader, test_loader)"
      ]
    },
    {
      "cell_type": "code",
      "execution_count": null,
      "metadata": {
        "id": "SCQmdWst1xoo"
      },
      "outputs": [],
      "source": [
        "BATCH_SIZE = 32\n",
        "NUM_EPOCHS = 70"
      ]
    },
    {
      "cell_type": "markdown",
      "metadata": {
        "id": "AZwCPQYSmK_n"
      },
      "source": [
        "## Train"
      ]
    },
    {
      "cell_type": "code",
      "execution_count": null,
      "metadata": {
        "id": "SkvimbruytmI"
      },
      "outputs": [],
      "source": [
        "train_loader_5500, test_loader_5500 = Data_loader(BATCH_SIZE, 'SCUT-FBP5500')"
      ]
    },
    {
      "cell_type": "markdown",
      "source": [
        "#### EFFICEINTNETV2 TRAINING PROCESS"
      ],
      "metadata": {
        "id": "E1sQyCQkjaZe"
      }
    },
    {
      "cell_type": "code",
      "source": [
        "!rm -r 'model'\n",
        "!mkdir 'model'\n",
        "criterion = nn.SmoothL1Loss(beta=0.4)\n",
        "optimizer_efficient = torch.optim.Adam(efficientnet_v2_s.parameters(), lr=1e-4, weight_decay=1e-3)\n",
        "train_metrics_log_2, val_metrics_log_2 = train_and_validate(efficientnet_v2_s, optimizer_efficient, criterion, train_loader_5500, test_loader_5500, NUM_EPOCHS)"
      ],
      "metadata": {
        "colab": {
          "base_uri": "https://localhost:8080/",
          "height": 425,
          "referenced_widgets": [
            "b251637d78ec40bea1eeca5e0fc2ed3d",
            "43bacad1c394481da56efe91d736b9ee",
            "7365261fa7114667bec43f587aef82ef",
            "0fd185b327b44ad5a0736d91fe4b36ae",
            "1800a2ff29c54d31bb23c20881c514b9",
            "8734d9981fd84f76ae2d8b29e2f0b78d",
            "256eaf9d16184ad1a4d5bd20fc468693",
            "b972de919012414f8cfed6815fa065f9",
            "cc21dffc369a4697b0a9e63850795ba4",
            "8778c84e9bbf4ef693e35ce4ca352d0c",
            "e89ead24d52545cfb1db20a001a98193"
          ]
        },
        "id": "SoGIoTBlbiDH",
        "outputId": "d7deca59-1878-4198-e095-a49a62f40ac5"
      },
      "execution_count": null,
      "outputs": [
        {
          "output_type": "display_data",
          "data": {
            "text/plain": [
              "<Figure size 1500x500 with 2 Axes>"
            ],
            "image/png": "[encoded data removed]"
          },
          "metadata": {}
        }
      ]
    },
    {
      "cell_type": "code",
      "source": [
        "checkpoint = torch.load('/content/model/Epoch-59.pth')\n",
        "checkpoint['pc'], checkpoint['mae'], checkpoint['rmse']"
      ],
      "metadata": {
        "colab": {
          "base_uri": "https://localhost:8080/"
        },
        "id": "T75H9nCvSD8j",
        "outputId": "c9cf8924-a8be-42c7-fb98-c1edb14ac801"
      },
      "execution_count": null,
      "outputs": [
        {
          "output_type": "execute_result",
          "data": {
            "text/plain": [
              "(0.8461659303827285, 0.28982091128826143, 0.3794299035960452)"
            ]
          },
          "metadata": {},
          "execution_count": 16
        }
      ]
    },
    {
      "cell_type": "markdown",
      "source": [
        "#### REGNET TRAINING PROCESS"
      ],
      "metadata": {
        "id": "hVh0D5fakcvu"
      }
    },
    {
      "cell_type": "code",
      "source": [
        "%%time\n",
        "!rm -r 'model'\n",
        "!mkdir 'model'\n",
        "criterion = nn.SmoothL1Loss(beta=0.4)\n",
        "optimizer_reg = torch.optim.Adam(regnet.parameters(), lr=1e-4, weight_decay=1e-3)\n",
        "train_metrics_log_2, val_metrics_log_2 = train_and_validate(regnet, optimizer_reg, criterion, train_loader_5500, test_loader_5500, NUM_EPOCHS)"
      ],
      "metadata": {
        "colab": {
          "base_uri": "https://localhost:8080/",
          "height": 419,
          "referenced_widgets": [
            "88c5cbfcff1848fb8282cf840bc564fe",
            "042929ed5e8147629e3f38284fe1eb09",
            "d5d69a4582f34fb78585e1f5ce472267",
            "2c025dcc8e174c1b8cf36c9900538f28",
            "80d03ac7642846feb267e668d6c6b5b1",
            "83becd5546ca41aba2491b379093f7e6",
            "c9c45a147b404c65b87dfc6b033609b9",
            "5733b689cc7c40378074b154efa0a20f",
            "893535857f5f4ff3b8cf54661d13abeb",
            "38d8be8e4cf24a79a90f84ac05ba4afa",
            "7fdeae484e0c48cbbbc30baa7b27a68e"
          ]
        },
        "id": "2ukyMVTRkfGS",
        "outputId": "1ee5a1cf-6a2d-4791-df76-5cc21c6d4fad"
      },
      "execution_count": null,
      "outputs": [
        {
          "output_type": "display_data",
          "data": {
            "text/plain": [
              "<Figure size 1500x500 with 2 Axes>"
            ],
            "image/png": "[encoded data removed]"
          },
          "metadata": {}
        }
      ]
    }
  ],
  "metadata": {
    "colab": {
      "provenance": [],
      "collapsed_sections": [
        "vR4Q9_undPAY",
        "HnTjxXV9chXu",
        "iYWT90WmdGG1",
        "e6z1oYJfdUHF",
        "AZwCPQYSmK_n"
      ],
      "gpuType": "T4"
    },
    "gpuClass": "standard",
    "kernelspec": {
      "display_name": "Python 3",
      "name": "python3"
    },
    "language_info": {
      "name": "python"
    },
    "widgets": {
      "application/vnd.jupyter.widget-state+json": {
        "b251637d78ec40bea1eeca5e0fc2ed3d": {
          "model_module": "@jupyter-widgets/controls",
          "model_name": "HBoxModel",
          "model_module_version": "1.5.0",
          "state": {
            "_dom_classes": [],
            "_model_module": "@jupyter-widgets/controls",
            "_model_module_version": "1.5.0",
            "_model_name": "HBoxModel",
            "_view_count": null,
            "_view_module": "@jupyter-widgets/controls",
            "_view_module_version": "1.5.0",
            "_view_name": "HBoxView",
            "box_style": "",
            "children": [
              "IPY_MODEL_43bacad1c394481da56efe91d736b9ee",
              "IPY_MODEL_7365261fa7114667bec43f587aef82ef",
              "IPY_MODEL_0fd185b327b44ad5a0736d91fe4b36ae"
            ],
            "layout": "IPY_MODEL_1800a2ff29c54d31bb23c20881c514b9"
          }
        },
        "43bacad1c394481da56efe91d736b9ee": {
          "model_module": "@jupyter-widgets/controls",
          "model_name": "HTMLModel",
          "model_module_version": "1.5.0",
          "state": {
            "_dom_classes": [],
            "_model_module": "@jupyter-widgets/controls",
            "_model_module_version": "1.5.0",
            "_model_name": "HTMLModel",
            "_view_count": null,
            "_view_module": "@jupyter-widgets/controls",
            "_view_module_version": "1.5.0",
            "_view_name": "HTMLView",
            "description": "",
            "description_tooltip": null,
            "layout": "IPY_MODEL_8734d9981fd84f76ae2d8b29e2f0b78d",
            "placeholder": "​",
            "style": "IPY_MODEL_256eaf9d16184ad1a4d5bd20fc468693",
            "value": "100%"
          }
        },
        "7365261fa7114667bec43f587aef82ef": {
          "model_module": "@jupyter-widgets/controls",
          "model_name": "FloatProgressModel",
          "model_module_version": "1.5.0",
          "state": {
            "_dom_classes": [],
            "_model_module": "@jupyter-widgets/controls",
            "_model_module_version": "1.5.0",
            "_model_name": "FloatProgressModel",
            "_view_count": null,
            "_view_module": "@jupyter-widgets/controls",
            "_view_module_version": "1.5.0",
            "_view_name": "ProgressView",
            "bar_style": "success",
            "description": "",
            "description_tooltip": null,
            "layout": "IPY_MODEL_b972de919012414f8cfed6815fa065f9",
            "max": 70,
            "min": 0,
            "orientation": "horizontal",
            "style": "IPY_MODEL_cc21dffc369a4697b0a9e63850795ba4",
            "value": 70
          }
        },
        "0fd185b327b44ad5a0736d91fe4b36ae": {
          "model_module": "@jupyter-widgets/controls",
          "model_name": "HTMLModel",
          "model_module_version": "1.5.0",
          "state": {
            "_dom_classes": [],
            "_model_module": "@jupyter-widgets/controls",
            "_model_module_version": "1.5.0",
            "_model_name": "HTMLModel",
            "_view_count": null,
            "_view_module": "@jupyter-widgets/controls",
            "_view_module_version": "1.5.0",
            "_view_name": "HTMLView",
            "description": "",
            "description_tooltip": null,
            "layout": "IPY_MODEL_8778c84e9bbf4ef693e35ce4ca352d0c",
            "placeholder": "​",
            "style": "IPY_MODEL_e89ead24d52545cfb1db20a001a98193",
            "value": " 70/70 [1:34:00&lt;00:00, 82.69s/it]"
          }
        },
        "1800a2ff29c54d31bb23c20881c514b9": {
          "model_module": "@jupyter-widgets/base",
          "model_name": "LayoutModel",
          "model_module_version": "1.2.0",
          "state": {
            "_model_module": "@jupyter-widgets/base",
            "_model_module_version": "1.2.0",
            "_model_name": "LayoutModel",
            "_view_count": null,
            "_view_module": "@jupyter-widgets/base",
            "_view_module_version": "1.2.0",
            "_view_name": "LayoutView",
            "align_content": null,
            "align_items": null,
            "align_self": null,
            "border": null,
            "bottom": null,
            "display": null,
            "flex": null,
            "flex_flow": null,
            "grid_area": null,
            "grid_auto_columns": null,
            "grid_auto_flow": null,
            "grid_auto_rows": null,
            "grid_column": null,
            "grid_gap": null,
            "grid_row": null,
            "grid_template_areas": null,
            "grid_template_columns": null,
            "grid_template_rows": null,
            "height": null,
            "justify_content": null,
            "justify_items": null,
            "left": null,
            "margin": null,
            "max_height": null,
            "max_width": null,
            "min_height": null,
            "min_width": null,
            "object_fit": null,
            "object_position": null,
            "order": null,
            "overflow": null,
            "overflow_x": null,
            "overflow_y": null,
            "padding": null,
            "right": null,
            "top": null,
            "visibility": null,
            "width": null
          }
        },
        "8734d9981fd84f76ae2d8b29e2f0b78d": {
          "model_module": "@jupyter-widgets/base",
          "model_name": "LayoutModel",
          "model_module_version": "1.2.0",
          "state": {
            "_model_module": "@jupyter-widgets/base",
            "_model_module_version": "1.2.0",
            "_model_name": "LayoutModel",
            "_view_count": null,
            "_view_module": "@jupyter-widgets/base",
            "_view_module_version": "1.2.0",
            "_view_name": "LayoutView",
            "align_content": null,
            "align_items": null,
            "align_self": null,
            "border": null,
            "bottom": null,
            "display": null,
            "flex": null,
            "flex_flow": null,
            "grid_area": null,
            "grid_auto_columns": null,
            "grid_auto_flow": null,
            "grid_auto_rows": null,
            "grid_column": null,
            "grid_gap": null,
            "grid_row": null,
            "grid_template_areas": null,
            "grid_template_columns": null,
            "grid_template_rows": null,
            "height": null,
            "justify_content": null,
            "justify_items": null,
            "left": null,
            "margin": null,
            "max_height": null,
            "max_width": null,
            "min_height": null,
            "min_width": null,
            "object_fit": null,
            "object_position": null,
            "order": null,
            "overflow": null,
            "overflow_x": null,
            "overflow_y": null,
            "padding": null,
            "right": null,
            "top": null,
            "visibility": null,
            "width": null
          }
        },
        "256eaf9d16184ad1a4d5bd20fc468693": {
          "model_module": "@jupyter-widgets/controls",
          "model_name": "DescriptionStyleModel",
          "model_module_version": "1.5.0",
          "state": {
            "_model_module": "@jupyter-widgets/controls",
            "_model_module_version": "1.5.0",
            "_model_name": "DescriptionStyleModel",
            "_view_count": null,
            "_view_module": "@jupyter-widgets/base",
            "_view_module_version": "1.2.0",
            "_view_name": "StyleView",
            "description_width": ""
          }
        },
        "b972de919012414f8cfed6815fa065f9": {
          "model_module": "@jupyter-widgets/base",
          "model_name": "LayoutModel",
          "model_module_version": "1.2.0",
          "state": {
            "_model_module": "@jupyter-widgets/base",
            "_model_module_version": "1.2.0",
            "_model_name": "LayoutModel",
            "_view_count": null,
            "_view_module": "@jupyter-widgets/base",
            "_view_module_version": "1.2.0",
            "_view_name": "LayoutView",
            "align_content": null,
            "align_items": null,
            "align_self": null,
            "border": null,
            "bottom": null,
            "display": null,
            "flex": null,
            "flex_flow": null,
            "grid_area": null,
            "grid_auto_columns": null,
            "grid_auto_flow": null,
            "grid_auto_rows": null,
            "grid_column": null,
            "grid_gap": null,
            "grid_row": null,
            "grid_template_areas": null,
            "grid_template_columns": null,
            "grid_template_rows": null,
            "height": null,
            "justify_content": null,
            "justify_items": null,
            "left": null,
            "margin": null,
            "max_height": null,
            "max_width": null,
            "min_height": null,
            "min_width": null,
            "object_fit": null,
            "object_position": null,
            "order": null,
            "overflow": null,
            "overflow_x": null,
            "overflow_y": null,
            "padding": null,
            "right": null,
            "top": null,
            "visibility": null,
            "width": null
          }
        },
        "cc21dffc369a4697b0a9e63850795ba4": {
          "model_module": "@jupyter-widgets/controls",
          "model_name": "ProgressStyleModel",
          "model_module_version": "1.5.0",
          "state": {
            "_model_module": "@jupyter-widgets/controls",
            "_model_module_version": "1.5.0",
            "_model_name": "ProgressStyleModel",
            "_view_count": null,
            "_view_module": "@jupyter-widgets/base",
            "_view_module_version": "1.2.0",
            "_view_name": "StyleView",
            "bar_color": null,
            "description_width": ""
          }
        },
        "8778c84e9bbf4ef693e35ce4ca352d0c": {
          "model_module": "@jupyter-widgets/base",
          "model_name": "LayoutModel",
          "model_module_version": "1.2.0",
          "state": {
            "_model_module": "@jupyter-widgets/base",
            "_model_module_version": "1.2.0",
            "_model_name": "LayoutModel",
            "_view_count": null,
            "_view_module": "@jupyter-widgets/base",
            "_view_module_version": "1.2.0",
            "_view_name": "LayoutView",
            "align_content": null,
            "align_items": null,
            "align_self": null,
            "border": null,
            "bottom": null,
            "display": null,
            "flex": null,
            "flex_flow": null,
            "grid_area": null,
            "grid_auto_columns": null,
            "grid_auto_flow": null,
            "grid_auto_rows": null,
            "grid_column": null,
            "grid_gap": null,
            "grid_row": null,
            "grid_template_areas": null,
            "grid_template_columns": null,
            "grid_template_rows": null,
            "height": null,
            "justify_content": null,
            "justify_items": null,
            "left": null,
            "margin": null,
            "max_height": null,
            "max_width": null,
            "min_height": null,
            "min_width": null,
            "object_fit": null,
            "object_position": null,
            "order": null,
            "overflow": null,
            "overflow_x": null,
            "overflow_y": null,
            "padding": null,
            "right": null,
            "top": null,
            "visibility": null,
            "width": null
          }
        },
        "e89ead24d52545cfb1db20a001a98193": {
          "model_module": "@jupyter-widgets/controls",
          "model_name": "DescriptionStyleModel",
          "model_module_version": "1.5.0",
          "state": {
            "_model_module": "@jupyter-widgets/controls",
            "_model_module_version": "1.5.0",
            "_model_name": "DescriptionStyleModel",
            "_view_count": null,
            "_view_module": "@jupyter-widgets/base",
            "_view_module_version": "1.2.0",
            "_view_name": "StyleView",
            "description_width": ""
          }
        },
        "88c5cbfcff1848fb8282cf840bc564fe": {
          "model_module": "@jupyter-widgets/controls",
          "model_name": "HBoxModel",
          "model_module_version": "1.5.0",
          "state": {
            "_dom_classes": [],
            "_model_module": "@jupyter-widgets/controls",
            "_model_module_version": "1.5.0",
            "_model_name": "HBoxModel",
            "_view_count": null,
            "_view_module": "@jupyter-widgets/controls",
            "_view_module_version": "1.5.0",
            "_view_name": "HBoxView",
            "box_style": "",
            "children": [
              "IPY_MODEL_042929ed5e8147629e3f38284fe1eb09",
              "IPY_MODEL_d5d69a4582f34fb78585e1f5ce472267",
              "IPY_MODEL_2c025dcc8e174c1b8cf36c9900538f28"
            ],
            "layout": "IPY_MODEL_80d03ac7642846feb267e668d6c6b5b1"
          }
        },
        "042929ed5e8147629e3f38284fe1eb09": {
          "model_module": "@jupyter-widgets/controls",
          "model_name": "HTMLModel",
          "model_module_version": "1.5.0",
          "state": {
            "_dom_classes": [],
            "_model_module": "@jupyter-widgets/controls",
            "_model_module_version": "1.5.0",
            "_model_name": "HTMLModel",
            "_view_count": null,
            "_view_module": "@jupyter-widgets/controls",
            "_view_module_version": "1.5.0",
            "_view_name": "HTMLView",
            "description": "",
            "description_tooltip": null,
            "layout": "IPY_MODEL_83becd5546ca41aba2491b379093f7e6",
            "placeholder": "​",
            "style": "IPY_MODEL_c9c45a147b404c65b87dfc6b033609b9",
            "value": " 70%"
          }
        },
        "d5d69a4582f34fb78585e1f5ce472267": {
          "model_module": "@jupyter-widgets/controls",
          "model_name": "FloatProgressModel",
          "model_module_version": "1.5.0",
          "state": {
            "_dom_classes": [],
            "_model_module": "@jupyter-widgets/controls",
            "_model_module_version": "1.5.0",
            "_model_name": "FloatProgressModel",
            "_view_count": null,
            "_view_module": "@jupyter-widgets/controls",
            "_view_module_version": "1.5.0",
            "_view_name": "ProgressView",
            "bar_style": "",
            "description": "",
            "description_tooltip": null,
            "layout": "IPY_MODEL_5733b689cc7c40378074b154efa0a20f",
            "max": 70,
            "min": 0,
            "orientation": "horizontal",
            "style": "IPY_MODEL_893535857f5f4ff3b8cf54661d13abeb",
            "value": 49
          }
        },
        "2c025dcc8e174c1b8cf36c9900538f28": {
          "model_module": "@jupyter-widgets/controls",
          "model_name": "HTMLModel",
          "model_module_version": "1.5.0",
          "state": {
            "_dom_classes": [],
            "_model_module": "@jupyter-widgets/controls",
            "_model_module_version": "1.5.0",
            "_model_name": "HTMLModel",
            "_view_count": null,
            "_view_module": "@jupyter-widgets/controls",
            "_view_module_version": "1.5.0",
            "_view_name": "HTMLView",
            "description": "",
            "description_tooltip": null,
            "layout": "IPY_MODEL_38d8be8e4cf24a79a90f84ac05ba4afa",
            "placeholder": "​",
            "style": "IPY_MODEL_7fdeae484e0c48cbbbc30baa7b27a68e",
            "value": " 49/70 [2:23:45&lt;1:01:13, 174.95s/it]"
          }
        },
        "80d03ac7642846feb267e668d6c6b5b1": {
          "model_module": "@jupyter-widgets/base",
          "model_name": "LayoutModel",
          "model_module_version": "1.2.0",
          "state": {
            "_model_module": "@jupyter-widgets/base",
            "_model_module_version": "1.2.0",
            "_model_name": "LayoutModel",
            "_view_count": null,
            "_view_module": "@jupyter-widgets/base",
            "_view_module_version": "1.2.0",
            "_view_name": "LayoutView",
            "align_content": null,
            "align_items": null,
            "align_self": null,
            "border": null,
            "bottom": null,
            "display": null,
            "flex": null,
            "flex_flow": null,
            "grid_area": null,
            "grid_auto_columns": null,
            "grid_auto_flow": null,
            "grid_auto_rows": null,
            "grid_column": null,
            "grid_gap": null,
            "grid_row": null,
            "grid_template_areas": null,
            "grid_template_columns": null,
            "grid_template_rows": null,
            "height": null,
            "justify_content": null,
            "justify_items": null,
            "left": null,
            "margin": null,
            "max_height": null,
            "max_width": null,
            "min_height": null,
            "min_width": null,
            "object_fit": null,
            "object_position": null,
            "order": null,
            "overflow": null,
            "overflow_x": null,
            "overflow_y": null,
            "padding": null,
            "right": null,
            "top": null,
            "visibility": null,
            "width": null
          }
        },
        "83becd5546ca41aba2491b379093f7e6": {
          "model_module": "@jupyter-widgets/base",
          "model_name": "LayoutModel",
          "model_module_version": "1.2.0",
          "state": {
            "_model_module": "@jupyter-widgets/base",
            "_model_module_version": "1.2.0",
            "_model_name": "LayoutModel",
            "_view_count": null,
            "_view_module": "@jupyter-widgets/base",
            "_view_module_version": "1.2.0",
            "_view_name": "LayoutView",
            "align_content": null,
            "align_items": null,
            "align_self": null,
            "border": null,
            "bottom": null,
            "display": null,
            "flex": null,
            "flex_flow": null,
            "grid_area": null,
            "grid_auto_columns": null,
            "grid_auto_flow": null,
            "grid_auto_rows": null,
            "grid_column": null,
            "grid_gap": null,
            "grid_row": null,
            "grid_template_areas": null,
            "grid_template_columns": null,
            "grid_template_rows": null,
            "height": null,
            "justify_content": null,
            "justify_items": null,
            "left": null,
            "margin": null,
            "max_height": null,
            "max_width": null,
            "min_height": null,
            "min_width": null,
            "object_fit": null,
            "object_position": null,
            "order": null,
            "overflow": null,
            "overflow_x": null,
            "overflow_y": null,
            "padding": null,
            "right": null,
            "top": null,
            "visibility": null,
            "width": null
          }
        },
        "c9c45a147b404c65b87dfc6b033609b9": {
          "model_module": "@jupyter-widgets/controls",
          "model_name": "DescriptionStyleModel",
          "model_module_version": "1.5.0",
          "state": {
            "_model_module": "@jupyter-widgets/controls",
            "_model_module_version": "1.5.0",
            "_model_name": "DescriptionStyleModel",
            "_view_count": null,
            "_view_module": "@jupyter-widgets/base",
            "_view_module_version": "1.2.0",
            "_view_name": "StyleView",
            "description_width": ""
          }
        },
        "5733b689cc7c40378074b154efa0a20f": {
          "model_module": "@jupyter-widgets/base",
          "model_name": "LayoutModel",
          "model_module_version": "1.2.0",
          "state": {
            "_model_module": "@jupyter-widgets/base",
            "_model_module_version": "1.2.0",
            "_model_name": "LayoutModel",
            "_view_count": null,
            "_view_module": "@jupyter-widgets/base",
            "_view_module_version": "1.2.0",
            "_view_name": "LayoutView",
            "align_content": null,
            "align_items": null,
            "align_self": null,
            "border": null,
            "bottom": null,
            "display": null,
            "flex": null,
            "flex_flow": null,
            "grid_area": null,
            "grid_auto_columns": null,
            "grid_auto_flow": null,
            "grid_auto_rows": null,
            "grid_column": null,
            "grid_gap": null,
            "grid_row": null,
            "grid_template_areas": null,
            "grid_template_columns": null,
            "grid_template_rows": null,
            "height": null,
            "justify_content": null,
            "justify_items": null,
            "left": null,
            "margin": null,
            "max_height": null,
            "max_width": null,
            "min_height": null,
            "min_width": null,
            "object_fit": null,
            "object_position": null,
            "order": null,
            "overflow": null,
            "overflow_x": null,
            "overflow_y": null,
            "padding": null,
            "right": null,
            "top": null,
            "visibility": null,
            "width": null
          }
        },
        "893535857f5f4ff3b8cf54661d13abeb": {
          "model_module": "@jupyter-widgets/controls",
          "model_name": "ProgressStyleModel",
          "model_module_version": "1.5.0",
          "state": {
            "_model_module": "@jupyter-widgets/controls",
            "_model_module_version": "1.5.0",
            "_model_name": "ProgressStyleModel",
            "_view_count": null,
            "_view_module": "@jupyter-widgets/base",
            "_view_module_version": "1.2.0",
            "_view_name": "StyleView",
            "bar_color": null,
            "description_width": ""
          }
        },
        "38d8be8e4cf24a79a90f84ac05ba4afa": {
          "model_module": "@jupyter-widgets/base",
          "model_name": "LayoutModel",
          "model_module_version": "1.2.0",
          "state": {
            "_model_module": "@jupyter-widgets/base",
            "_model_module_version": "1.2.0",
            "_model_name": "LayoutModel",
            "_view_count": null,
            "_view_module": "@jupyter-widgets/base",
            "_view_module_version": "1.2.0",
            "_view_name": "LayoutView",
            "align_content": null,
            "align_items": null,
            "align_self": null,
            "border": null,
            "bottom": null,
            "display": null,
            "flex": null,
            "flex_flow": null,
            "grid_area": null,
            "grid_auto_columns": null,
            "grid_auto_flow": null,
            "grid_auto_rows": null,
            "grid_column": null,
            "grid_gap": null,
            "grid_row": null,
            "grid_template_areas": null,
            "grid_template_columns": null,
            "grid_template_rows": null,
            "height": null,
            "justify_content": null,
            "justify_items": null,
            "left": null,
            "margin": null,
            "max_height": null,
            "max_width": null,
            "min_height": null,
            "min_width": null,
            "object_fit": null,
            "object_position": null,
            "order": null,
            "overflow": null,
            "overflow_x": null,
            "overflow_y": null,
            "padding": null,
            "right": null,
            "top": null,
            "visibility": null,
            "width": null
          }
        },
        "7fdeae484e0c48cbbbc30baa7b27a68e": {
          "model_module": "@jupyter-widgets/controls",
          "model_name": "DescriptionStyleModel",
          "model_module_version": "1.5.0",
          "state": {
            "_model_module": "@jupyter-widgets/controls",
            "_model_module_version": "1.5.0",
            "_model_name": "DescriptionStyleModel",
            "_view_count": null,
            "_view_module": "@jupyter-widgets/base",
            "_view_module_version": "1.2.0",
            "_view_name": "StyleView",
            "description_width": ""
          }
        }
      }
    },
    "accelerator": "GPU"
  },
  "nbformat": 4,
  "nbformat_minor": 0
}